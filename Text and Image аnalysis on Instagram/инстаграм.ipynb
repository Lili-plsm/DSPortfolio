{
 "cells": [
  {
   "cell_type": "markdown",
   "metadata": {},
   "source": [
    "# Предобработка данных"
   ]
  },
  {
   "cell_type": "code",
   "execution_count": 1,
   "metadata": {},
   "outputs": [],
   "source": [
    "from sklearn.model_selection import train_test_split\n",
    "from keras import layers, models, optimizers, regularizers, applications\n",
    "import matplotlib.pyplot as plt\n",
    "import pandas as pd\n",
    "import numpy as np\n",
    "import re\n",
    "from tensorflow.keras.regularizers import l2\n",
    "from tensorflow.keras.callbacks import EarlyStopping\n",
    "from sklearn.metrics import mean_squared_error, mean_absolute_error\n",
    "from gensim.models import KeyedVectors\n",
    "from datetime import datetime, timedelta\n",
    "\n",
    "glove_model = KeyedVectors.load_word2vec_format('word2vec_model.txt')\n",
    "\n",
    "def embedding(x):\n",
    "    try:\n",
    "        vector = glove_model[str(x)]\n",
    "        return list(vector)\n",
    "    except Exception as e:\n",
    "        return list(0*np.ones(300))\n",
    "\n",
    "def ad_words(words, target_length):\n",
    "    new_vector = np.zeros(300) \n",
    "\n",
    "    if len(words) > target_length:\n",
    "        return words[:target_length]\n",
    "    elif len(words) < target_length:\n",
    "        while len(words) < target_length:\n",
    "            words.append(new_vector)\n",
    "    return words\n"
   ]
  },
  {
   "cell_type": "code",
   "execution_count": null,
   "metadata": {},
   "outputs": [],
   "source": [
    "df = pd.read_csv('res_df.csv')\n",
    "images_array = np.load('images_array.npy')\n",
    "df['images']= pd.Series([images_array[i] for i in range(images_array.shape[0])])\n",
    "\n",
    "df['date'] = pd.to_datetime(df['date'])\n",
    "\n",
    "one_week_earlier = datetime.now() - timedelta(days=2)\n",
    "df = df[df['date'] < one_week_earlier]\n",
    "\n",
    "base_model = applications.VGG16(weights='imagenet', include_top=False)\n",
    "model = models.Model(inputs=base_model.input, outputs=base_model.output)\n",
    "\n",
    "df['caption'] = df['caption'].astype(str)  \n",
    "df['caption'] = df['caption'].apply(lambda x: re.sub(r'[^a-zA-Z\\s]', '', x).lower() if x else '')\n",
    "df['caption'] = df['caption'].apply(lambda x: x.split())\n",
    "df['caption'] = df['caption'].apply(lambda x: ad_words(x, 10))\n",
    "df['caption'] = df['caption'].apply(lambda x: [embedding(i) for i in x])\n",
    "\n",
    "df = df.dropna(subset=['images'])  \n",
    "df['images'] = df['images'].apply(lambda x: applications.vgg16.preprocess_input(np.expand_dims(x, axis=0)))\n",
    "df['images'] = df['images'].apply(lambda x: model.predict(x)[0])\n",
    "df['likes'] = df.apply(lambda row: row['likes'] / df[df['name'] == row['name']]['likes'].max(), axis=1)\n"
   ]
  },
  {
   "cell_type": "markdown",
   "metadata": {},
   "source": [
    "# Модель и обучение"
   ]
  },
  {
   "cell_type": "code",
   "execution_count": 56,
   "metadata": {},
   "outputs": [],
   "source": [
    "X = np.array(df['caption'].tolist())\n",
    "X2 = np.array(df['images'].tolist())\n",
    "y = np.array(df['likes'].tolist())\n",
    "\n",
    "X_train, X_temp, y_train, y_temp = train_test_split(X, y, test_size=0.2, random_state=42)\n",
    "X_val, X_test, y_val, y_test = train_test_split(X_temp, y_temp, test_size=0.5, random_state=42)\n",
    "\n",
    "X2_train, X2_temp = train_test_split(X2, test_size=0.2, random_state=42)\n",
    "X2_val, X2_test = train_test_split(X2_temp, test_size=0.5, random_state=42)\n",
    "\n",
    "\n",
    "if 1:\n",
    "    model = models.Sequential([\n",
    "    layers.LSTM(128, input_shape=(X_train.shape[1], X_train.shape[2]), return_sequences=True, kernel_regularizer=regularizers.l2(0.02)),\n",
    "    layers.Dropout(0.3),\n",
    "    layers.BatchNormalization(),\n",
    "    layers.LSTM(64, return_sequences=True, kernel_regularizer=regularizers.l2(0.02)),\n",
    "    layers.Dropout(0.3),\n",
    "    layers.BatchNormalization(),\n",
    "    layers.LSTM(8, kernel_regularizer=regularizers.l2(0.02)),\n",
    "    layers.Dropout(0.3),\n",
    "    layers.BatchNormalization(),\n",
    "    layers.Dense(8, activation='relu', kernel_regularizer=regularizers.l2(0.02)),\n",
    "    layers.Dense(1, activation='linear'),\n",
    "        ])\n",
    "    model.compile(optimizer=optimizers.Adam(learning_rate=1e-4), loss='mean_squared_error', metrics=['r2_score'])\n",
    "    model.load_weights('model1.weights.h5')\n",
    "\n",
    "\n",
    "if 0:\n",
    "    model2 = models.Sequential([\n",
    "    layers.Conv2D(256, (3, 3), activation='relu', padding='same', kernel_regularizer=l2(0.01)),\n",
    "    layers.Dropout(0.02),\n",
    "    layers.Conv2D(64, (3, 3), activation='relu', padding='same', kernel_regularizer=l2(0.01)),\n",
    "    layers.Dropout(0.02),\n",
    "    layers.Conv2D(32, (3, 3), activation='relu', padding='same', kernel_regularizer=l2(0.01)),\n",
    "    layers.Dropout(0.02),\n",
    "\n",
    "    layers.Conv2D(4, (3, 3), activation='relu', kernel_regularizer=l2(0.01)),\n",
    "    layers.Flatten(),\n",
    "    layers.Dense(1, activation='linear', kernel_regularizer=l2(0.01))  # Выходной слой для регрессии\n",
    "    ])\n",
    "    model2.compile(optimizer=optimizers.Adam(learning_rate=3e-4), loss='mean_squared_error', metrics=['r2_score'])\n",
    "    #model2.load_weights('model2.weights.h5')"
   ]
  },
  {
   "cell_type": "code",
   "execution_count": null,
   "metadata": {},
   "outputs": [],
   "source": [
    "if 0:\n",
    "    early_stopping = EarlyStopping(monitor='val_loss', patience=5, restore_best_weights=True)\n",
    "    epochs = 500\n",
    "    history = model.fit(X_train, y_train, validation_data=(X_val, y_val), epochs=epochs, batch_size=100, callbacks=[early_stopping], verbose=1)\n",
    "    model.save_weights('model.weights.h5')\n",
    "    plt.plot(history.history['loss'], label='Train Loss')\n",
    "    plt.plot(history.history['val_loss'], label='Val Loss')\n",
    "\n",
    "\n",
    "if 0:\n",
    "    early_stopping = EarlyStopping(monitor='val_loss', patience=25, restore_best_weights=True)\n",
    "    history2 = model2.fit(X2_train, y_train, validation_data=(X2_val, y_val), epochs=epochs, batch_size=100, callbacks=[early_stopping], verbose=1)\n",
    "    model2.save_weights('model2.weights.h5')\n",
    "    plt.plot(history2.history['loss'], label='Train Loss')\n",
    "    plt.plot(history2.history['val_loss'], label='Val Loss')"
   ]
  },
  {
   "cell_type": "code",
   "execution_count": 57,
   "metadata": {},
   "outputs": [
    {
     "name": "stdout",
     "output_type": "stream",
     "text": [
      "\u001b[1m1/1\u001b[0m \u001b[32m━━━━━━━━━━━━━━━━━━━━\u001b[0m\u001b[37m\u001b[0m \u001b[1m0s\u001b[0m 310ms/step\n",
      "(19, 1)\n",
      "Mean Squared Error (MSE): 0.52\n",
      "Mean Absolute Error (MAE): 0.65\n",
      "\u001b[1m1/1\u001b[0m \u001b[32m━━━━━━━━━━━━━━━━━━━━\u001b[0m\u001b[37m\u001b[0m \u001b[1m0s\u001b[0m 22ms/step\n",
      "(19, 1)\n",
      "Mean Squared Error (MSE): 0.14\n",
      "Mean Absolute Error (MAE): 0.33\n"
     ]
    }
   ],
   "source": [
    "def results_show(y, X, model, show_values):\n",
    "    predictions = model.predict(X).reshape(len(X), -1)\n",
    "    print(predictions.shape)\n",
    "    if show_values:\n",
    "        print(\"Predictions:\")\n",
    "        for i in range(len(predictions)):\n",
    "            #print(f\"Actual: {y_train[i]}, Predicted: {1000*predictions[i][0]}\")\n",
    "            print(f\"difference - {y[i] - predictions[i]}\")\n",
    "\n",
    "\n",
    "    mse = mean_squared_error(y, predictions[:])\n",
    "    mae = mean_absolute_error(y, predictions)\n",
    "    print(f'Mean Squared Error (MSE): {mse:.2f}')\n",
    "    print(f'Mean Absolute Error (MAE): {mae:.2f}')\n",
    "\n",
    "results_show(y_test, X_test, model, 0)\n",
    "results_show(y_test, X2_test, model2, 0)\n"
   ]
  }
 ],
 "metadata": {
  "kernelspec": {
   "display_name": "Python 3",
   "language": "python",
   "name": "python3"
  },
  "language_info": {
   "codemirror_mode": {
    "name": "ipython",
    "version": 3
   },
   "file_extension": ".py",
   "mimetype": "text/x-python",
   "name": "python",
   "nbconvert_exporter": "python",
   "pygments_lexer": "ipython3",
   "version": "3.9.6"
  }
 },
 "nbformat": 4,
 "nbformat_minor": 2
}
